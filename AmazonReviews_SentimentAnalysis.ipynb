{
 "cells": [
  {
   "cell_type": "code",
   "execution_count": 10,
   "id": "ba5bfd87-29cb-4414-b2e1-31a763e424d9",
   "metadata": {
    "collapsed": true,
    "jupyter": {
     "outputs_hidden": true
    },
    "scrolled": true
   },
   "outputs": [
    {
     "name": "stdout",
     "output_type": "stream",
     "text": [
      "Collecting textblob\n",
      "  Downloading textblob-0.18.0.post0-py3-none-any.whl.metadata (4.5 kB)\n",
      "Requirement already satisfied: nltk>=3.8 in c:\\users\\satya\\anaconda3\\lib\\site-packages (from textblob) (3.8.1)\n",
      "Requirement already satisfied: click in c:\\users\\satya\\anaconda3\\lib\\site-packages (from nltk>=3.8->textblob) (8.1.7)\n",
      "Requirement already satisfied: joblib in c:\\users\\satya\\anaconda3\\lib\\site-packages (from nltk>=3.8->textblob) (1.2.0)\n",
      "Requirement already satisfied: regex>=2021.8.3 in c:\\users\\satya\\anaconda3\\lib\\site-packages (from nltk>=3.8->textblob) (2023.10.3)\n",
      "Requirement already satisfied: tqdm in c:\\users\\satya\\anaconda3\\lib\\site-packages (from nltk>=3.8->textblob) (4.65.0)\n",
      "Requirement already satisfied: colorama in c:\\users\\satya\\anaconda3\\lib\\site-packages (from click->nltk>=3.8->textblob) (0.4.6)\n",
      "Downloading textblob-0.18.0.post0-py3-none-any.whl (626 kB)\n",
      "   ---------------------------------------- 0.0/626.3 kB ? eta -:--:--\n",
      "    --------------------------------------- 10.2/626.3 kB ? eta -:--:--\n",
      "   - ------------------------------------- 30.7/626.3 kB 325.1 kB/s eta 0:00:02\n",
      "   -- ------------------------------------ 41.0/626.3 kB 326.8 kB/s eta 0:00:02\n",
      "   ------- ------------------------------ 122.9/626.3 kB 798.9 kB/s eta 0:00:01\n",
      "   --------- ---------------------------- 153.6/626.3 kB 913.1 kB/s eta 0:00:01\n",
      "   ----------------- ---------------------- 276.5/626.3 kB 1.1 MB/s eta 0:00:01\n",
      "   -------------------- ------------------- 317.4/626.3 kB 1.2 MB/s eta 0:00:01\n",
      "   -------------------------- ------------- 419.8/626.3 kB 1.3 MB/s eta 0:00:01\n",
      "   ---------------------------- ----------- 450.6/626.3 kB 1.3 MB/s eta 0:00:01\n",
      "   -------------------------------------- - 604.2/626.3 kB 1.5 MB/s eta 0:00:01\n",
      "   ---------------------------------------- 626.3/626.3 kB 1.5 MB/s eta 0:00:00\n",
      "Installing collected packages: textblob\n",
      "Successfully installed textblob-0.18.0.post0\n"
     ]
    }
   ],
   "source": [
    "!pip install textblob"
   ]
  },
  {
   "cell_type": "code",
   "execution_count": 208,
   "id": "6b5122cf-b1d8-4b0b-80b7-98cdcbbacdbd",
   "metadata": {},
   "outputs": [
    {
     "name": "stdout",
     "output_type": "stream",
     "text": [
      "Requirement already satisfied: wordcloud in c:\\users\\satya\\anaconda3\\lib\\site-packages (1.9.3)\n",
      "Requirement already satisfied: numpy>=1.6.1 in c:\\users\\satya\\anaconda3\\lib\\site-packages (from wordcloud) (1.26.4)\n",
      "Requirement already satisfied: pillow in c:\\users\\satya\\anaconda3\\lib\\site-packages (from wordcloud) (10.2.0)\n",
      "Requirement already satisfied: matplotlib in c:\\users\\satya\\anaconda3\\lib\\site-packages (from wordcloud) (3.8.0)\n",
      "Requirement already satisfied: contourpy>=1.0.1 in c:\\users\\satya\\anaconda3\\lib\\site-packages (from matplotlib->wordcloud) (1.2.0)\n",
      "Requirement already satisfied: cycler>=0.10 in c:\\users\\satya\\anaconda3\\lib\\site-packages (from matplotlib->wordcloud) (0.11.0)\n",
      "Requirement already satisfied: fonttools>=4.22.0 in c:\\users\\satya\\anaconda3\\lib\\site-packages (from matplotlib->wordcloud) (4.25.0)\n",
      "Requirement already satisfied: kiwisolver>=1.0.1 in c:\\users\\satya\\anaconda3\\lib\\site-packages (from matplotlib->wordcloud) (1.4.4)\n",
      "Requirement already satisfied: packaging>=20.0 in c:\\users\\satya\\anaconda3\\lib\\site-packages (from matplotlib->wordcloud) (23.1)\n",
      "Requirement already satisfied: pyparsing>=2.3.1 in c:\\users\\satya\\anaconda3\\lib\\site-packages (from matplotlib->wordcloud) (3.0.9)\n",
      "Requirement already satisfied: python-dateutil>=2.7 in c:\\users\\satya\\anaconda3\\lib\\site-packages (from matplotlib->wordcloud) (2.8.2)\n",
      "Requirement already satisfied: six>=1.5 in c:\\users\\satya\\anaconda3\\lib\\site-packages (from python-dateutil>=2.7->matplotlib->wordcloud) (1.16.0)\n"
     ]
    }
   ],
   "source": [
    "!pip install wordcloud"
   ]
  },
  {
   "cell_type": "code",
   "execution_count": 209,
   "id": "98909158-9850-4c34-96fc-46f727e5b733",
   "metadata": {
    "scrolled": true
   },
   "outputs": [
    {
     "name": "stdout",
     "output_type": "stream",
     "text": [
      "Requirement already satisfied: cufflinks in c:\\users\\satya\\anaconda3\\lib\\site-packages (0.17.3)\n",
      "Requirement already satisfied: numpy>=1.9.2 in c:\\users\\satya\\anaconda3\\lib\\site-packages (from cufflinks) (1.26.4)\n",
      "Requirement already satisfied: pandas>=0.19.2 in c:\\users\\satya\\anaconda3\\lib\\site-packages (from cufflinks) (2.1.4)\n",
      "Requirement already satisfied: plotly>=4.1.1 in c:\\users\\satya\\anaconda3\\lib\\site-packages (from cufflinks) (5.9.0)\n",
      "Requirement already satisfied: six>=1.9.0 in c:\\users\\satya\\anaconda3\\lib\\site-packages (from cufflinks) (1.16.0)\n",
      "Requirement already satisfied: colorlover>=0.2.1 in c:\\users\\satya\\anaconda3\\lib\\site-packages (from cufflinks) (0.3.0)\n",
      "Requirement already satisfied: setuptools>=34.4.1 in c:\\users\\satya\\anaconda3\\lib\\site-packages (from cufflinks) (68.2.2)\n",
      "Requirement already satisfied: ipython>=5.3.0 in c:\\users\\satya\\anaconda3\\lib\\site-packages (from cufflinks) (8.20.0)\n",
      "Requirement already satisfied: ipywidgets>=7.0.0 in c:\\users\\satya\\anaconda3\\lib\\site-packages (from cufflinks) (7.6.5)\n",
      "Requirement already satisfied: decorator in c:\\users\\satya\\anaconda3\\lib\\site-packages (from ipython>=5.3.0->cufflinks) (5.1.1)\n",
      "Requirement already satisfied: jedi>=0.16 in c:\\users\\satya\\anaconda3\\lib\\site-packages (from ipython>=5.3.0->cufflinks) (0.18.1)\n",
      "Requirement already satisfied: matplotlib-inline in c:\\users\\satya\\anaconda3\\lib\\site-packages (from ipython>=5.3.0->cufflinks) (0.1.6)\n",
      "Requirement already satisfied: prompt-toolkit<3.1.0,>=3.0.41 in c:\\users\\satya\\anaconda3\\lib\\site-packages (from ipython>=5.3.0->cufflinks) (3.0.43)\n",
      "Requirement already satisfied: pygments>=2.4.0 in c:\\users\\satya\\anaconda3\\lib\\site-packages (from ipython>=5.3.0->cufflinks) (2.15.1)\n",
      "Requirement already satisfied: stack-data in c:\\users\\satya\\anaconda3\\lib\\site-packages (from ipython>=5.3.0->cufflinks) (0.2.0)\n",
      "Requirement already satisfied: traitlets>=5 in c:\\users\\satya\\anaconda3\\lib\\site-packages (from ipython>=5.3.0->cufflinks) (5.7.1)\n",
      "Requirement already satisfied: colorama in c:\\users\\satya\\anaconda3\\lib\\site-packages (from ipython>=5.3.0->cufflinks) (0.4.6)\n",
      "Requirement already satisfied: ipykernel>=4.5.1 in c:\\users\\satya\\anaconda3\\lib\\site-packages (from ipywidgets>=7.0.0->cufflinks) (6.28.0)\n",
      "Requirement already satisfied: ipython-genutils~=0.2.0 in c:\\users\\satya\\anaconda3\\lib\\site-packages (from ipywidgets>=7.0.0->cufflinks) (0.2.0)\n",
      "Requirement already satisfied: nbformat>=4.2.0 in c:\\users\\satya\\anaconda3\\lib\\site-packages (from ipywidgets>=7.0.0->cufflinks) (5.9.2)\n",
      "Requirement already satisfied: widgetsnbextension~=3.5.0 in c:\\users\\satya\\anaconda3\\lib\\site-packages (from ipywidgets>=7.0.0->cufflinks) (3.5.2)\n",
      "Requirement already satisfied: jupyterlab-widgets>=1.0.0 in c:\\users\\satya\\anaconda3\\lib\\site-packages (from ipywidgets>=7.0.0->cufflinks) (3.0.9)\n",
      "Requirement already satisfied: python-dateutil>=2.8.2 in c:\\users\\satya\\anaconda3\\lib\\site-packages (from pandas>=0.19.2->cufflinks) (2.8.2)\n",
      "Requirement already satisfied: pytz>=2020.1 in c:\\users\\satya\\anaconda3\\lib\\site-packages (from pandas>=0.19.2->cufflinks) (2023.3.post1)\n",
      "Requirement already satisfied: tzdata>=2022.1 in c:\\users\\satya\\anaconda3\\lib\\site-packages (from pandas>=0.19.2->cufflinks) (2023.3)\n",
      "Requirement already satisfied: tenacity>=6.2.0 in c:\\users\\satya\\anaconda3\\lib\\site-packages (from plotly>=4.1.1->cufflinks) (8.2.2)\n",
      "Requirement already satisfied: comm>=0.1.1 in c:\\users\\satya\\anaconda3\\lib\\site-packages (from ipykernel>=4.5.1->ipywidgets>=7.0.0->cufflinks) (0.1.2)\n",
      "Requirement already satisfied: debugpy>=1.6.5 in c:\\users\\satya\\anaconda3\\lib\\site-packages (from ipykernel>=4.5.1->ipywidgets>=7.0.0->cufflinks) (1.6.7)\n",
      "Requirement already satisfied: jupyter-client>=6.1.12 in c:\\users\\satya\\anaconda3\\lib\\site-packages (from ipykernel>=4.5.1->ipywidgets>=7.0.0->cufflinks) (8.6.0)\n",
      "Requirement already satisfied: jupyter-core!=5.0.*,>=4.12 in c:\\users\\satya\\anaconda3\\lib\\site-packages (from ipykernel>=4.5.1->ipywidgets>=7.0.0->cufflinks) (5.5.0)\n",
      "Requirement already satisfied: nest-asyncio in c:\\users\\satya\\anaconda3\\lib\\site-packages (from ipykernel>=4.5.1->ipywidgets>=7.0.0->cufflinks) (1.6.0)\n",
      "Requirement already satisfied: packaging in c:\\users\\satya\\anaconda3\\lib\\site-packages (from ipykernel>=4.5.1->ipywidgets>=7.0.0->cufflinks) (23.1)\n",
      "Requirement already satisfied: psutil in c:\\users\\satya\\anaconda3\\lib\\site-packages (from ipykernel>=4.5.1->ipywidgets>=7.0.0->cufflinks) (5.9.0)\n",
      "Requirement already satisfied: pyzmq>=24 in c:\\users\\satya\\anaconda3\\lib\\site-packages (from ipykernel>=4.5.1->ipywidgets>=7.0.0->cufflinks) (25.1.2)\n",
      "Requirement already satisfied: tornado>=6.1 in c:\\users\\satya\\anaconda3\\lib\\site-packages (from ipykernel>=4.5.1->ipywidgets>=7.0.0->cufflinks) (6.3.3)\n",
      "Requirement already satisfied: parso<0.9.0,>=0.8.0 in c:\\users\\satya\\anaconda3\\lib\\site-packages (from jedi>=0.16->ipython>=5.3.0->cufflinks) (0.8.3)\n",
      "Requirement already satisfied: fastjsonschema in c:\\users\\satya\\anaconda3\\lib\\site-packages (from nbformat>=4.2.0->ipywidgets>=7.0.0->cufflinks) (2.16.2)\n",
      "Requirement already satisfied: jsonschema>=2.6 in c:\\users\\satya\\anaconda3\\lib\\site-packages (from nbformat>=4.2.0->ipywidgets>=7.0.0->cufflinks) (4.19.2)\n",
      "Requirement already satisfied: wcwidth in c:\\users\\satya\\anaconda3\\lib\\site-packages (from prompt-toolkit<3.1.0,>=3.0.41->ipython>=5.3.0->cufflinks) (0.2.5)\n",
      "Requirement already satisfied: notebook>=4.4.1 in c:\\users\\satya\\anaconda3\\lib\\site-packages (from widgetsnbextension~=3.5.0->ipywidgets>=7.0.0->cufflinks) (7.0.8)\n",
      "Requirement already satisfied: executing in c:\\users\\satya\\anaconda3\\lib\\site-packages (from stack-data->ipython>=5.3.0->cufflinks) (0.8.3)\n",
      "Requirement already satisfied: asttokens in c:\\users\\satya\\anaconda3\\lib\\site-packages (from stack-data->ipython>=5.3.0->cufflinks) (2.0.5)\n",
      "Requirement already satisfied: pure-eval in c:\\users\\satya\\anaconda3\\lib\\site-packages (from stack-data->ipython>=5.3.0->cufflinks) (0.2.2)\n",
      "Requirement already satisfied: attrs>=22.2.0 in c:\\users\\satya\\anaconda3\\lib\\site-packages (from jsonschema>=2.6->nbformat>=4.2.0->ipywidgets>=7.0.0->cufflinks) (23.1.0)\n",
      "Requirement already satisfied: jsonschema-specifications>=2023.03.6 in c:\\users\\satya\\anaconda3\\lib\\site-packages (from jsonschema>=2.6->nbformat>=4.2.0->ipywidgets>=7.0.0->cufflinks) (2023.7.1)\n",
      "Requirement already satisfied: referencing>=0.28.4 in c:\\users\\satya\\anaconda3\\lib\\site-packages (from jsonschema>=2.6->nbformat>=4.2.0->ipywidgets>=7.0.0->cufflinks) (0.30.2)\n",
      "Requirement already satisfied: rpds-py>=0.7.1 in c:\\users\\satya\\anaconda3\\lib\\site-packages (from jsonschema>=2.6->nbformat>=4.2.0->ipywidgets>=7.0.0->cufflinks) (0.10.6)\n",
      "Requirement already satisfied: platformdirs>=2.5 in c:\\users\\satya\\anaconda3\\lib\\site-packages (from jupyter-core!=5.0.*,>=4.12->ipykernel>=4.5.1->ipywidgets>=7.0.0->cufflinks) (3.10.0)\n",
      "Requirement already satisfied: pywin32>=300 in c:\\users\\satya\\anaconda3\\lib\\site-packages (from jupyter-core!=5.0.*,>=4.12->ipykernel>=4.5.1->ipywidgets>=7.0.0->cufflinks) (305.1)\n",
      "Requirement already satisfied: jupyter-server<3,>=2.4.0 in c:\\users\\satya\\anaconda3\\lib\\site-packages (from notebook>=4.4.1->widgetsnbextension~=3.5.0->ipywidgets>=7.0.0->cufflinks) (2.10.0)\n",
      "Requirement already satisfied: jupyterlab-server<3,>=2.22.1 in c:\\users\\satya\\anaconda3\\lib\\site-packages (from notebook>=4.4.1->widgetsnbextension~=3.5.0->ipywidgets>=7.0.0->cufflinks) (2.25.1)\n",
      "Requirement already satisfied: jupyterlab<4.1,>=4.0.2 in c:\\users\\satya\\anaconda3\\lib\\site-packages (from notebook>=4.4.1->widgetsnbextension~=3.5.0->ipywidgets>=7.0.0->cufflinks) (4.0.11)\n",
      "Requirement already satisfied: notebook-shim<0.3,>=0.2 in c:\\users\\satya\\anaconda3\\lib\\site-packages (from notebook>=4.4.1->widgetsnbextension~=3.5.0->ipywidgets>=7.0.0->cufflinks) (0.2.3)\n",
      "Requirement already satisfied: anyio>=3.1.0 in c:\\users\\satya\\anaconda3\\lib\\site-packages (from jupyter-server<3,>=2.4.0->notebook>=4.4.1->widgetsnbextension~=3.5.0->ipywidgets>=7.0.0->cufflinks) (4.2.0)\n",
      "Requirement already satisfied: argon2-cffi in c:\\users\\satya\\anaconda3\\lib\\site-packages (from jupyter-server<3,>=2.4.0->notebook>=4.4.1->widgetsnbextension~=3.5.0->ipywidgets>=7.0.0->cufflinks) (21.3.0)\n",
      "Requirement already satisfied: jinja2 in c:\\users\\satya\\anaconda3\\lib\\site-packages (from jupyter-server<3,>=2.4.0->notebook>=4.4.1->widgetsnbextension~=3.5.0->ipywidgets>=7.0.0->cufflinks) (3.1.3)\n",
      "Requirement already satisfied: jupyter-events>=0.6.0 in c:\\users\\satya\\anaconda3\\lib\\site-packages (from jupyter-server<3,>=2.4.0->notebook>=4.4.1->widgetsnbextension~=3.5.0->ipywidgets>=7.0.0->cufflinks) (0.8.0)\n",
      "Requirement already satisfied: jupyter-server-terminals in c:\\users\\satya\\anaconda3\\lib\\site-packages (from jupyter-server<3,>=2.4.0->notebook>=4.4.1->widgetsnbextension~=3.5.0->ipywidgets>=7.0.0->cufflinks) (0.4.4)\n",
      "Requirement already satisfied: nbconvert>=6.4.4 in c:\\users\\satya\\anaconda3\\lib\\site-packages (from jupyter-server<3,>=2.4.0->notebook>=4.4.1->widgetsnbextension~=3.5.0->ipywidgets>=7.0.0->cufflinks) (7.10.0)\n",
      "Requirement already satisfied: overrides in c:\\users\\satya\\anaconda3\\lib\\site-packages (from jupyter-server<3,>=2.4.0->notebook>=4.4.1->widgetsnbextension~=3.5.0->ipywidgets>=7.0.0->cufflinks) (7.4.0)\n",
      "Requirement already satisfied: prometheus-client in c:\\users\\satya\\anaconda3\\lib\\site-packages (from jupyter-server<3,>=2.4.0->notebook>=4.4.1->widgetsnbextension~=3.5.0->ipywidgets>=7.0.0->cufflinks) (0.14.1)\n",
      "Requirement already satisfied: pywinpty in c:\\users\\satya\\anaconda3\\lib\\site-packages (from jupyter-server<3,>=2.4.0->notebook>=4.4.1->widgetsnbextension~=3.5.0->ipywidgets>=7.0.0->cufflinks) (2.0.10)\n",
      "Requirement already satisfied: send2trash>=1.8.2 in c:\\users\\satya\\anaconda3\\lib\\site-packages (from jupyter-server<3,>=2.4.0->notebook>=4.4.1->widgetsnbextension~=3.5.0->ipywidgets>=7.0.0->cufflinks) (1.8.2)\n",
      "Requirement already satisfied: terminado>=0.8.3 in c:\\users\\satya\\anaconda3\\lib\\site-packages (from jupyter-server<3,>=2.4.0->notebook>=4.4.1->widgetsnbextension~=3.5.0->ipywidgets>=7.0.0->cufflinks) (0.17.1)\n",
      "Requirement already satisfied: websocket-client in c:\\users\\satya\\anaconda3\\lib\\site-packages (from jupyter-server<3,>=2.4.0->notebook>=4.4.1->widgetsnbextension~=3.5.0->ipywidgets>=7.0.0->cufflinks) (0.58.0)\n",
      "Requirement already satisfied: async-lru>=1.0.0 in c:\\users\\satya\\anaconda3\\lib\\site-packages (from jupyterlab<4.1,>=4.0.2->notebook>=4.4.1->widgetsnbextension~=3.5.0->ipywidgets>=7.0.0->cufflinks) (2.0.4)\n",
      "Requirement already satisfied: jupyter-lsp>=2.0.0 in c:\\users\\satya\\anaconda3\\lib\\site-packages (from jupyterlab<4.1,>=4.0.2->notebook>=4.4.1->widgetsnbextension~=3.5.0->ipywidgets>=7.0.0->cufflinks) (2.2.0)\n",
      "Requirement already satisfied: babel>=2.10 in c:\\users\\satya\\anaconda3\\lib\\site-packages (from jupyterlab-server<3,>=2.22.1->notebook>=4.4.1->widgetsnbextension~=3.5.0->ipywidgets>=7.0.0->cufflinks) (2.11.0)\n",
      "Requirement already satisfied: json5>=0.9.0 in c:\\users\\satya\\anaconda3\\lib\\site-packages (from jupyterlab-server<3,>=2.22.1->notebook>=4.4.1->widgetsnbextension~=3.5.0->ipywidgets>=7.0.0->cufflinks) (0.9.6)\n",
      "Requirement already satisfied: requests>=2.31 in c:\\users\\satya\\anaconda3\\lib\\site-packages (from jupyterlab-server<3,>=2.22.1->notebook>=4.4.1->widgetsnbextension~=3.5.0->ipywidgets>=7.0.0->cufflinks) (2.31.0)\n",
      "Requirement already satisfied: idna>=2.8 in c:\\users\\satya\\anaconda3\\lib\\site-packages (from anyio>=3.1.0->jupyter-server<3,>=2.4.0->notebook>=4.4.1->widgetsnbextension~=3.5.0->ipywidgets>=7.0.0->cufflinks) (3.4)\n",
      "Requirement already satisfied: sniffio>=1.1 in c:\\users\\satya\\anaconda3\\lib\\site-packages (from anyio>=3.1.0->jupyter-server<3,>=2.4.0->notebook>=4.4.1->widgetsnbextension~=3.5.0->ipywidgets>=7.0.0->cufflinks) (1.3.0)\n",
      "Requirement already satisfied: MarkupSafe>=2.0 in c:\\users\\satya\\anaconda3\\lib\\site-packages (from jinja2->jupyter-server<3,>=2.4.0->notebook>=4.4.1->widgetsnbextension~=3.5.0->ipywidgets>=7.0.0->cufflinks) (2.1.3)\n",
      "Requirement already satisfied: python-json-logger>=2.0.4 in c:\\users\\satya\\anaconda3\\lib\\site-packages (from jupyter-events>=0.6.0->jupyter-server<3,>=2.4.0->notebook>=4.4.1->widgetsnbextension~=3.5.0->ipywidgets>=7.0.0->cufflinks) (2.0.7)\n",
      "Requirement already satisfied: pyyaml>=5.3 in c:\\users\\satya\\anaconda3\\lib\\site-packages (from jupyter-events>=0.6.0->jupyter-server<3,>=2.4.0->notebook>=4.4.1->widgetsnbextension~=3.5.0->ipywidgets>=7.0.0->cufflinks) (6.0.1)\n",
      "Requirement already satisfied: rfc3339-validator in c:\\users\\satya\\anaconda3\\lib\\site-packages (from jupyter-events>=0.6.0->jupyter-server<3,>=2.4.0->notebook>=4.4.1->widgetsnbextension~=3.5.0->ipywidgets>=7.0.0->cufflinks) (0.1.4)\n",
      "Requirement already satisfied: rfc3986-validator>=0.1.1 in c:\\users\\satya\\anaconda3\\lib\\site-packages (from jupyter-events>=0.6.0->jupyter-server<3,>=2.4.0->notebook>=4.4.1->widgetsnbextension~=3.5.0->ipywidgets>=7.0.0->cufflinks) (0.1.1)\n",
      "Requirement already satisfied: beautifulsoup4 in c:\\users\\satya\\anaconda3\\lib\\site-packages (from nbconvert>=6.4.4->jupyter-server<3,>=2.4.0->notebook>=4.4.1->widgetsnbextension~=3.5.0->ipywidgets>=7.0.0->cufflinks) (4.12.2)\n",
      "Requirement already satisfied: bleach!=5.0.0 in c:\\users\\satya\\anaconda3\\lib\\site-packages (from nbconvert>=6.4.4->jupyter-server<3,>=2.4.0->notebook>=4.4.1->widgetsnbextension~=3.5.0->ipywidgets>=7.0.0->cufflinks) (4.1.0)\n",
      "Requirement already satisfied: defusedxml in c:\\users\\satya\\anaconda3\\lib\\site-packages (from nbconvert>=6.4.4->jupyter-server<3,>=2.4.0->notebook>=4.4.1->widgetsnbextension~=3.5.0->ipywidgets>=7.0.0->cufflinks) (0.7.1)\n",
      "Requirement already satisfied: jupyterlab-pygments in c:\\users\\satya\\anaconda3\\lib\\site-packages (from nbconvert>=6.4.4->jupyter-server<3,>=2.4.0->notebook>=4.4.1->widgetsnbextension~=3.5.0->ipywidgets>=7.0.0->cufflinks) (0.1.2)\n",
      "Requirement already satisfied: mistune<4,>=2.0.3 in c:\\users\\satya\\anaconda3\\lib\\site-packages (from nbconvert>=6.4.4->jupyter-server<3,>=2.4.0->notebook>=4.4.1->widgetsnbextension~=3.5.0->ipywidgets>=7.0.0->cufflinks) (2.0.4)\n",
      "Requirement already satisfied: nbclient>=0.5.0 in c:\\users\\satya\\anaconda3\\lib\\site-packages (from nbconvert>=6.4.4->jupyter-server<3,>=2.4.0->notebook>=4.4.1->widgetsnbextension~=3.5.0->ipywidgets>=7.0.0->cufflinks) (0.8.0)\n",
      "Requirement already satisfied: pandocfilters>=1.4.1 in c:\\users\\satya\\anaconda3\\lib\\site-packages (from nbconvert>=6.4.4->jupyter-server<3,>=2.4.0->notebook>=4.4.1->widgetsnbextension~=3.5.0->ipywidgets>=7.0.0->cufflinks) (1.5.0)\n",
      "Requirement already satisfied: tinycss2 in c:\\users\\satya\\anaconda3\\lib\\site-packages (from nbconvert>=6.4.4->jupyter-server<3,>=2.4.0->notebook>=4.4.1->widgetsnbextension~=3.5.0->ipywidgets>=7.0.0->cufflinks) (1.2.1)\n",
      "Requirement already satisfied: charset-normalizer<4,>=2 in c:\\users\\satya\\anaconda3\\lib\\site-packages (from requests>=2.31->jupyterlab-server<3,>=2.22.1->notebook>=4.4.1->widgetsnbextension~=3.5.0->ipywidgets>=7.0.0->cufflinks) (2.0.4)\n",
      "Requirement already satisfied: urllib3<3,>=1.21.1 in c:\\users\\satya\\anaconda3\\lib\\site-packages (from requests>=2.31->jupyterlab-server<3,>=2.22.1->notebook>=4.4.1->widgetsnbextension~=3.5.0->ipywidgets>=7.0.0->cufflinks) (2.0.7)\n",
      "Requirement already satisfied: certifi>=2017.4.17 in c:\\users\\satya\\anaconda3\\lib\\site-packages (from requests>=2.31->jupyterlab-server<3,>=2.22.1->notebook>=4.4.1->widgetsnbextension~=3.5.0->ipywidgets>=7.0.0->cufflinks) (2024.2.2)\n",
      "Requirement already satisfied: argon2-cffi-bindings in c:\\users\\satya\\anaconda3\\lib\\site-packages (from argon2-cffi->jupyter-server<3,>=2.4.0->notebook>=4.4.1->widgetsnbextension~=3.5.0->ipywidgets>=7.0.0->cufflinks) (21.2.0)\n",
      "Requirement already satisfied: webencodings in c:\\users\\satya\\anaconda3\\lib\\site-packages (from bleach!=5.0.0->nbconvert>=6.4.4->jupyter-server<3,>=2.4.0->notebook>=4.4.1->widgetsnbextension~=3.5.0->ipywidgets>=7.0.0->cufflinks) (0.5.1)\n",
      "Requirement already satisfied: fqdn in c:\\users\\satya\\anaconda3\\lib\\site-packages (from jsonschema[format-nongpl]>=4.18.0->jupyter-events>=0.6.0->jupyter-server<3,>=2.4.0->notebook>=4.4.1->widgetsnbextension~=3.5.0->ipywidgets>=7.0.0->cufflinks) (1.5.1)\n",
      "Requirement already satisfied: isoduration in c:\\users\\satya\\anaconda3\\lib\\site-packages (from jsonschema[format-nongpl]>=4.18.0->jupyter-events>=0.6.0->jupyter-server<3,>=2.4.0->notebook>=4.4.1->widgetsnbextension~=3.5.0->ipywidgets>=7.0.0->cufflinks) (20.11.0)\n",
      "Requirement already satisfied: jsonpointer>1.13 in c:\\users\\satya\\anaconda3\\lib\\site-packages (from jsonschema[format-nongpl]>=4.18.0->jupyter-events>=0.6.0->jupyter-server<3,>=2.4.0->notebook>=4.4.1->widgetsnbextension~=3.5.0->ipywidgets>=7.0.0->cufflinks) (2.1)\n",
      "Requirement already satisfied: uri-template in c:\\users\\satya\\anaconda3\\lib\\site-packages (from jsonschema[format-nongpl]>=4.18.0->jupyter-events>=0.6.0->jupyter-server<3,>=2.4.0->notebook>=4.4.1->widgetsnbextension~=3.5.0->ipywidgets>=7.0.0->cufflinks) (1.3.0)\n",
      "Requirement already satisfied: webcolors>=1.11 in c:\\users\\satya\\anaconda3\\lib\\site-packages (from jsonschema[format-nongpl]>=4.18.0->jupyter-events>=0.6.0->jupyter-server<3,>=2.4.0->notebook>=4.4.1->widgetsnbextension~=3.5.0->ipywidgets>=7.0.0->cufflinks) (1.13)\n",
      "Requirement already satisfied: cffi>=1.0.1 in c:\\users\\satya\\anaconda3\\lib\\site-packages (from argon2-cffi-bindings->argon2-cffi->jupyter-server<3,>=2.4.0->notebook>=4.4.1->widgetsnbextension~=3.5.0->ipywidgets>=7.0.0->cufflinks) (1.16.0)\n",
      "Requirement already satisfied: soupsieve>1.2 in c:\\users\\satya\\anaconda3\\lib\\site-packages (from beautifulsoup4->nbconvert>=6.4.4->jupyter-server<3,>=2.4.0->notebook>=4.4.1->widgetsnbextension~=3.5.0->ipywidgets>=7.0.0->cufflinks) (2.5)\n",
      "Requirement already satisfied: pycparser in c:\\users\\satya\\anaconda3\\lib\\site-packages (from cffi>=1.0.1->argon2-cffi-bindings->argon2-cffi->jupyter-server<3,>=2.4.0->notebook>=4.4.1->widgetsnbextension~=3.5.0->ipywidgets>=7.0.0->cufflinks) (2.21)\n",
      "Requirement already satisfied: arrow>=0.15.0 in c:\\users\\satya\\anaconda3\\lib\\site-packages (from isoduration->jsonschema[format-nongpl]>=4.18.0->jupyter-events>=0.6.0->jupyter-server<3,>=2.4.0->notebook>=4.4.1->widgetsnbextension~=3.5.0->ipywidgets>=7.0.0->cufflinks) (1.2.3)\n"
     ]
    }
   ],
   "source": [
    "!pip install cufflinks"
   ]
  },
  {
   "cell_type": "code",
   "execution_count": 187,
   "id": "7435a29c-e3fd-4b79-8b97-f5351290b4af",
   "metadata": {},
   "outputs": [
    {
     "name": "stdout",
     "output_type": "stream",
     "text": [
      "Requirement already satisfied: nltk in c:\\users\\satya\\anaconda3\\lib\\site-packages (3.8.1)\n",
      "Requirement already satisfied: click in c:\\users\\satya\\anaconda3\\lib\\site-packages (from nltk) (8.1.7)\n",
      "Requirement already satisfied: joblib in c:\\users\\satya\\anaconda3\\lib\\site-packages (from nltk) (1.2.0)\n",
      "Requirement already satisfied: regex>=2021.8.3 in c:\\users\\satya\\anaconda3\\lib\\site-packages (from nltk) (2023.10.3)\n",
      "Requirement already satisfied: tqdm in c:\\users\\satya\\anaconda3\\lib\\site-packages (from nltk) (4.65.0)\n",
      "Requirement already satisfied: colorama in c:\\users\\satya\\anaconda3\\lib\\site-packages (from click->nltk) (0.4.6)\n"
     ]
    }
   ],
   "source": [
    "!pip install nltk"
   ]
  },
  {
   "cell_type": "code",
   "execution_count": 196,
   "id": "406e0b5e-ea9d-4f64-abaa-1109ae22b31b",
   "metadata": {},
   "outputs": [
    {
     "name": "stdout",
     "output_type": "stream",
     "text": [
      "Requirement already satisfied: nltk in c:\\users\\satya\\anaconda3\\lib\\site-packages (3.8.1)\n",
      "Requirement already satisfied: click in c:\\users\\satya\\anaconda3\\lib\\site-packages (from nltk) (8.1.7)\n",
      "Requirement already satisfied: joblib in c:\\users\\satya\\anaconda3\\lib\\site-packages (from nltk) (1.2.0)\n",
      "Requirement already satisfied: regex>=2021.8.3 in c:\\users\\satya\\anaconda3\\lib\\site-packages (from nltk) (2023.10.3)\n",
      "Requirement already satisfied: tqdm in c:\\users\\satya\\anaconda3\\lib\\site-packages (from nltk) (4.65.0)\n",
      "Requirement already satisfied: colorama in c:\\users\\satya\\anaconda3\\lib\\site-packages (from click->nltk) (0.4.6)\n"
     ]
    }
   ],
   "source": [
    "!pip install --upgrade nltk"
   ]
  },
  {
   "cell_type": "markdown",
   "id": "075c98d1-5385-4c28-84b9-74e97b29a9e7",
   "metadata": {},
   "source": [
    "# Step 1: Importing all the necessary libraries"
   ]
  },
  {
   "cell_type": "code",
   "execution_count": 188,
   "id": "ee9fd714-2d4d-41b3-92be-a34774399a33",
   "metadata": {},
   "outputs": [
    {
     "data": {
      "text/html": [
       "        <script type=\"text/javascript\">\n",
       "        window.PlotlyConfig = {MathJaxConfig: 'local'};\n",
       "        if (window.MathJax && window.MathJax.Hub && window.MathJax.Hub.Config) {window.MathJax.Hub.Config({SVG: {font: \"STIX-Web\"}});}\n",
       "        if (typeof require !== 'undefined') {\n",
       "        require.undef(\"plotly\");\n",
       "        requirejs.config({\n",
       "            paths: {\n",
       "                'plotly': ['https://cdn.plot.ly/plotly-2.12.1.min']\n",
       "            }\n",
       "        });\n",
       "        require(['plotly'], function(Plotly) {\n",
       "            window._Plotly = Plotly;\n",
       "        });\n",
       "        }\n",
       "        </script>\n",
       "        "
      ]
     },
     "metadata": {},
     "output_type": "display_data"
    },
    {
     "data": {
      "text/html": [
       "        <script type=\"text/javascript\">\n",
       "        window.PlotlyConfig = {MathJaxConfig: 'local'};\n",
       "        if (window.MathJax && window.MathJax.Hub && window.MathJax.Hub.Config) {window.MathJax.Hub.Config({SVG: {font: \"STIX-Web\"}});}\n",
       "        if (typeof require !== 'undefined') {\n",
       "        require.undef(\"plotly\");\n",
       "        requirejs.config({\n",
       "            paths: {\n",
       "                'plotly': ['https://cdn.plot.ly/plotly-2.12.1.min']\n",
       "            }\n",
       "        });\n",
       "        require(['plotly'], function(Plotly) {\n",
       "            window._Plotly = Plotly;\n",
       "        });\n",
       "        }\n",
       "        </script>\n",
       "        "
      ]
     },
     "metadata": {},
     "output_type": "display_data"
    }
   ],
   "source": [
    "import numpy as np\n",
    "import pandas as pd\n",
    "import string\n",
    "import nltk as nltk\n",
    "from nltk.sentiment.vader import SentimentIntensityAnalyzer\n",
    "from nltk.corpus import stopwords\n",
    "from nltk.stem import WordNetLemmatizer\n",
    "import re\n",
    "from textblob import TextBlob\n",
    "from wordcloud import WordCloud\n",
    "import seaborn as sns\n",
    "import matplotlib.pyplot as plt\n",
    "import cufflinks as cf\n",
    "%matplotlib inline\n",
    "from plotly.offline import init_notebook_mode, iplot\n",
    "init_notebook_mode(connected = True)\n",
    "cf.go_offline();\n",
    "import plotly.graph_objs as go\n",
    "from plotly.subplots import make_subplots\n",
    "import warnings\n",
    "warnings.filterwarnings(\"ignore\")\n",
    "warnings.warn(\"This will not show\")\n",
    "\n",
    "pd.set_option(\"display.max_columns\", None)"
   ]
  },
  {
   "cell_type": "markdown",
   "id": "6d2154ff-5478-4e4a-a1fe-aa466b9ce7dd",
   "metadata": {},
   "source": [
    "# Step 2: Let's Import dataset"
   ]
  },
  {
   "cell_type": "code",
   "execution_count": 34,
   "id": "8bdab584-ee85-4dc4-979a-e60cef384a49",
   "metadata": {},
   "outputs": [],
   "source": [
    "df = pd.read_csv(\"C:\\\\Users\\\\satya\\\\Downloads\\\\amazon_review.csv\")"
   ]
  },
  {
   "cell_type": "markdown",
   "id": "b6dc5b67-4a14-4807-8234-fdb5600a279a",
   "metadata": {},
   "source": [
    "# Let's read our data.  There are total 4915 rows × 12 columns"
   ]
  },
  {
   "cell_type": "code",
   "execution_count": 35,
   "id": "24dcc316-669b-41a0-ba64-991f317ffda2",
   "metadata": {
    "scrolled": true
   },
   "outputs": [
    {
     "data": {
      "text/html": [
       "<div>\n",
       "<style scoped>\n",
       "    .dataframe tbody tr th:only-of-type {\n",
       "        vertical-align: middle;\n",
       "    }\n",
       "\n",
       "    .dataframe tbody tr th {\n",
       "        vertical-align: top;\n",
       "    }\n",
       "\n",
       "    .dataframe thead th {\n",
       "        text-align: right;\n",
       "    }\n",
       "</style>\n",
       "<table border=\"1\" class=\"dataframe\">\n",
       "  <thead>\n",
       "    <tr style=\"text-align: right;\">\n",
       "      <th></th>\n",
       "      <th>reviewerID</th>\n",
       "      <th>asin</th>\n",
       "      <th>reviewerName</th>\n",
       "      <th>helpful</th>\n",
       "      <th>reviewText</th>\n",
       "      <th>overall</th>\n",
       "      <th>summary</th>\n",
       "      <th>unixReviewTime</th>\n",
       "      <th>reviewTime</th>\n",
       "      <th>day_diff</th>\n",
       "      <th>helpful_yes</th>\n",
       "      <th>total_vote</th>\n",
       "    </tr>\n",
       "  </thead>\n",
       "  <tbody>\n",
       "    <tr>\n",
       "      <th>0</th>\n",
       "      <td>A3SBTW3WS4IQSN</td>\n",
       "      <td>B007WTAJTO</td>\n",
       "      <td>NaN</td>\n",
       "      <td>[0, 0]</td>\n",
       "      <td>No issues.</td>\n",
       "      <td>4.0</td>\n",
       "      <td>Four Stars</td>\n",
       "      <td>1406073600</td>\n",
       "      <td>2014-07-23</td>\n",
       "      <td>138</td>\n",
       "      <td>0</td>\n",
       "      <td>0</td>\n",
       "    </tr>\n",
       "    <tr>\n",
       "      <th>1</th>\n",
       "      <td>A18K1ODH1I2MVB</td>\n",
       "      <td>B007WTAJTO</td>\n",
       "      <td>0mie</td>\n",
       "      <td>[0, 0]</td>\n",
       "      <td>Purchased this for my device, it worked as adv...</td>\n",
       "      <td>5.0</td>\n",
       "      <td>MOAR SPACE!!!</td>\n",
       "      <td>1382659200</td>\n",
       "      <td>2013-10-25</td>\n",
       "      <td>409</td>\n",
       "      <td>0</td>\n",
       "      <td>0</td>\n",
       "    </tr>\n",
       "    <tr>\n",
       "      <th>2</th>\n",
       "      <td>A2FII3I2MBMUIA</td>\n",
       "      <td>B007WTAJTO</td>\n",
       "      <td>1K3</td>\n",
       "      <td>[0, 0]</td>\n",
       "      <td>it works as expected. I should have sprung for...</td>\n",
       "      <td>4.0</td>\n",
       "      <td>nothing to really say....</td>\n",
       "      <td>1356220800</td>\n",
       "      <td>2012-12-23</td>\n",
       "      <td>715</td>\n",
       "      <td>0</td>\n",
       "      <td>0</td>\n",
       "    </tr>\n",
       "    <tr>\n",
       "      <th>3</th>\n",
       "      <td>A3H99DFEG68SR</td>\n",
       "      <td>B007WTAJTO</td>\n",
       "      <td>1m2</td>\n",
       "      <td>[0, 0]</td>\n",
       "      <td>This think has worked out great.Had a diff. br...</td>\n",
       "      <td>5.0</td>\n",
       "      <td>Great buy at this price!!!  *** UPDATE</td>\n",
       "      <td>1384992000</td>\n",
       "      <td>2013-11-21</td>\n",
       "      <td>382</td>\n",
       "      <td>0</td>\n",
       "      <td>0</td>\n",
       "    </tr>\n",
       "    <tr>\n",
       "      <th>4</th>\n",
       "      <td>A375ZM4U047O79</td>\n",
       "      <td>B007WTAJTO</td>\n",
       "      <td>2&amp;amp;1/2Men</td>\n",
       "      <td>[0, 0]</td>\n",
       "      <td>Bought it with Retail Packaging, arrived legit...</td>\n",
       "      <td>5.0</td>\n",
       "      <td>best deal around</td>\n",
       "      <td>1373673600</td>\n",
       "      <td>2013-07-13</td>\n",
       "      <td>513</td>\n",
       "      <td>0</td>\n",
       "      <td>0</td>\n",
       "    </tr>\n",
       "    <tr>\n",
       "      <th>...</th>\n",
       "      <td>...</td>\n",
       "      <td>...</td>\n",
       "      <td>...</td>\n",
       "      <td>...</td>\n",
       "      <td>...</td>\n",
       "      <td>...</td>\n",
       "      <td>...</td>\n",
       "      <td>...</td>\n",
       "      <td>...</td>\n",
       "      <td>...</td>\n",
       "      <td>...</td>\n",
       "      <td>...</td>\n",
       "    </tr>\n",
       "    <tr>\n",
       "      <th>4910</th>\n",
       "      <td>A2LBMKXRM5H2W9</td>\n",
       "      <td>B007WTAJTO</td>\n",
       "      <td>ZM \"J\"</td>\n",
       "      <td>[0, 0]</td>\n",
       "      <td>I bought this Sandisk 16GB Class 10 to use wit...</td>\n",
       "      <td>1.0</td>\n",
       "      <td>Do not waste your money.</td>\n",
       "      <td>1374537600</td>\n",
       "      <td>2013-07-23</td>\n",
       "      <td>503</td>\n",
       "      <td>0</td>\n",
       "      <td>0</td>\n",
       "    </tr>\n",
       "    <tr>\n",
       "      <th>4911</th>\n",
       "      <td>ALGDLRUI1ZPCS</td>\n",
       "      <td>B007WTAJTO</td>\n",
       "      <td>Zo</td>\n",
       "      <td>[0, 0]</td>\n",
       "      <td>Used this for extending the capabilities of my...</td>\n",
       "      <td>5.0</td>\n",
       "      <td>Great item!</td>\n",
       "      <td>1377129600</td>\n",
       "      <td>2013-08-22</td>\n",
       "      <td>473</td>\n",
       "      <td>0</td>\n",
       "      <td>0</td>\n",
       "    </tr>\n",
       "    <tr>\n",
       "      <th>4912</th>\n",
       "      <td>A2MR1NI0ENW2AD</td>\n",
       "      <td>B007WTAJTO</td>\n",
       "      <td>Z S Liske</td>\n",
       "      <td>[0, 0]</td>\n",
       "      <td>Great card that is very fast and reliable. It ...</td>\n",
       "      <td>5.0</td>\n",
       "      <td>Fast and reliable memory card</td>\n",
       "      <td>1396224000</td>\n",
       "      <td>2014-03-31</td>\n",
       "      <td>252</td>\n",
       "      <td>0</td>\n",
       "      <td>0</td>\n",
       "    </tr>\n",
       "    <tr>\n",
       "      <th>4913</th>\n",
       "      <td>A37E6P3DSO9QJD</td>\n",
       "      <td>B007WTAJTO</td>\n",
       "      <td>Z Taylor</td>\n",
       "      <td>[0, 0]</td>\n",
       "      <td>Good amount of space for the stuff I want to d...</td>\n",
       "      <td>5.0</td>\n",
       "      <td>Great little card</td>\n",
       "      <td>1379289600</td>\n",
       "      <td>2013-09-16</td>\n",
       "      <td>448</td>\n",
       "      <td>0</td>\n",
       "      <td>0</td>\n",
       "    </tr>\n",
       "    <tr>\n",
       "      <th>4914</th>\n",
       "      <td>A8KGFTFQ86IBR</td>\n",
       "      <td>B007WTAJTO</td>\n",
       "      <td>Zza</td>\n",
       "      <td>[0, 0]</td>\n",
       "      <td>I've heard bad things about this 64gb Micro SD...</td>\n",
       "      <td>5.0</td>\n",
       "      <td>So far so good.</td>\n",
       "      <td>1388620800</td>\n",
       "      <td>2014-02-01</td>\n",
       "      <td>310</td>\n",
       "      <td>0</td>\n",
       "      <td>0</td>\n",
       "    </tr>\n",
       "  </tbody>\n",
       "</table>\n",
       "<p>4915 rows × 12 columns</p>\n",
       "</div>"
      ],
      "text/plain": [
       "          reviewerID        asin  reviewerName helpful  \\\n",
       "0     A3SBTW3WS4IQSN  B007WTAJTO           NaN  [0, 0]   \n",
       "1     A18K1ODH1I2MVB  B007WTAJTO          0mie  [0, 0]   \n",
       "2     A2FII3I2MBMUIA  B007WTAJTO           1K3  [0, 0]   \n",
       "3      A3H99DFEG68SR  B007WTAJTO           1m2  [0, 0]   \n",
       "4     A375ZM4U047O79  B007WTAJTO  2&amp;1/2Men  [0, 0]   \n",
       "...              ...         ...           ...     ...   \n",
       "4910  A2LBMKXRM5H2W9  B007WTAJTO        ZM \"J\"  [0, 0]   \n",
       "4911   ALGDLRUI1ZPCS  B007WTAJTO            Zo  [0, 0]   \n",
       "4912  A2MR1NI0ENW2AD  B007WTAJTO     Z S Liske  [0, 0]   \n",
       "4913  A37E6P3DSO9QJD  B007WTAJTO      Z Taylor  [0, 0]   \n",
       "4914   A8KGFTFQ86IBR  B007WTAJTO           Zza  [0, 0]   \n",
       "\n",
       "                                             reviewText  overall  \\\n",
       "0                                            No issues.      4.0   \n",
       "1     Purchased this for my device, it worked as adv...      5.0   \n",
       "2     it works as expected. I should have sprung for...      4.0   \n",
       "3     This think has worked out great.Had a diff. br...      5.0   \n",
       "4     Bought it with Retail Packaging, arrived legit...      5.0   \n",
       "...                                                 ...      ...   \n",
       "4910  I bought this Sandisk 16GB Class 10 to use wit...      1.0   \n",
       "4911  Used this for extending the capabilities of my...      5.0   \n",
       "4912  Great card that is very fast and reliable. It ...      5.0   \n",
       "4913  Good amount of space for the stuff I want to d...      5.0   \n",
       "4914  I've heard bad things about this 64gb Micro SD...      5.0   \n",
       "\n",
       "                                     summary  unixReviewTime  reviewTime  \\\n",
       "0                                 Four Stars      1406073600  2014-07-23   \n",
       "1                              MOAR SPACE!!!      1382659200  2013-10-25   \n",
       "2                  nothing to really say....      1356220800  2012-12-23   \n",
       "3     Great buy at this price!!!  *** UPDATE      1384992000  2013-11-21   \n",
       "4                           best deal around      1373673600  2013-07-13   \n",
       "...                                      ...             ...         ...   \n",
       "4910                Do not waste your money.      1374537600  2013-07-23   \n",
       "4911                             Great item!      1377129600  2013-08-22   \n",
       "4912           Fast and reliable memory card      1396224000  2014-03-31   \n",
       "4913                       Great little card      1379289600  2013-09-16   \n",
       "4914                         So far so good.      1388620800  2014-02-01   \n",
       "\n",
       "      day_diff  helpful_yes  total_vote  \n",
       "0          138            0           0  \n",
       "1          409            0           0  \n",
       "2          715            0           0  \n",
       "3          382            0           0  \n",
       "4          513            0           0  \n",
       "...        ...          ...         ...  \n",
       "4910       503            0           0  \n",
       "4911       473            0           0  \n",
       "4912       252            0           0  \n",
       "4913       448            0           0  \n",
       "4914       310            0           0  \n",
       "\n",
       "[4915 rows x 12 columns]"
      ]
     },
     "execution_count": 35,
     "metadata": {},
     "output_type": "execute_result"
    }
   ],
   "source": [
    "df"
   ]
  },
  {
   "cell_type": "markdown",
   "id": "02fba03e-0a3c-4f83-91e4-5c1341f91adf",
   "metadata": {},
   "source": [
    "# Step 3: Any Missing values? Let's do EDA"
   ]
  },
  {
   "cell_type": "markdown",
   "id": "595a00f7-9409-4e14-b211-e841eab02ee5",
   "metadata": {},
   "source": [
    "## Let's create a function to check missing values"
   ]
  },
  {
   "cell_type": "code",
   "execution_count": 40,
   "id": "55ba8ba5-1afa-46da-92a6-0df2b9ded977",
   "metadata": {},
   "outputs": [
    {
     "name": "stdout",
     "output_type": "stream",
     "text": [
      "Found Missing Values\n"
     ]
    },
    {
     "data": {
      "text/plain": [
       "reviewerName    1\n",
       "reviewText      1\n",
       "dtype: int64"
      ]
     },
     "execution_count": 40,
     "metadata": {},
     "output_type": "execute_result"
    }
   ],
   "source": [
    "def check_missing_values(df):\n",
    "    missing_values = df.isnull().sum()\n",
    "    if missing_values.sum() == 0:\n",
    "        print(\"No missing values found\")\n",
    "    else:\n",
    "        print(\"Found Missing Values\")\n",
    "        missing_values = missing_values[missing_values > 0]\n",
    "        missing_values = missing_values.sort_values()\n",
    "    return missing_values\n",
    "\n",
    "check_missing_values(df)"
   ]
  },
  {
   "cell_type": "markdown",
   "id": "3179ad29-5678-4321-857d-b81a80009554",
   "metadata": {},
   "source": [
    "## As there is 1 missing value in each of these 2 categorical variables \"reviewerName & reviewText\", I decided to drop them as it causes no impact on the data because it is only 1 row"
   ]
  },
  {
   "cell_type": "markdown",
   "id": "0f4f32e2-53d5-409a-ba21-651eb0a44b28",
   "metadata": {},
   "source": [
    "## Lets create a function to drop that 1 missing value in each of these 2 columns"
   ]
  },
  {
   "cell_type": "code",
   "execution_count": 53,
   "id": "d6f9afba-417b-49e6-9de0-df7929a8f338",
   "metadata": {},
   "outputs": [],
   "source": [
    "def drop_missing_values(df,axis,how,subset,inplace):\n",
    "    missing_values = df.isnull().sum()\n",
    "    if missing_values.sum() > 0:\n",
    "        if inplace:\n",
    "            df.dropna(axis=axis, how=how, subset=subset, inplace=inplace)\n",
    "        else:\n",
    "            return df.dropna(axis=axis, how=how, subset=subset)\n",
    "    else:\n",
    "        return df\n",
    "drop_missing_values(df=df,axis=0,how='any',subset=['reviewerName','reviewText'],inplace=True)"
   ]
  },
  {
   "cell_type": "markdown",
   "id": "e7bf9438-5dd6-4637-8e65-887e18cb8f06",
   "metadata": {},
   "source": [
    "## checking null or missing values with info() method without creating function"
   ]
  },
  {
   "cell_type": "markdown",
   "id": "3e11d030-1681-4876-a579-b7565484b80d",
   "metadata": {},
   "source": [
    "### Let's check the missing values by calling the 'check_missing_values' function again"
   ]
  },
  {
   "cell_type": "code",
   "execution_count": 55,
   "id": "18af2f96-e7c1-48a3-b88d-2273e69c9017",
   "metadata": {},
   "outputs": [
    {
     "name": "stdout",
     "output_type": "stream",
     "text": [
      "No missing values found\n"
     ]
    },
    {
     "data": {
      "text/plain": [
       "reviewerID        0\n",
       "asin              0\n",
       "reviewerName      0\n",
       "helpful           0\n",
       "reviewText        0\n",
       "overall           0\n",
       "summary           0\n",
       "unixReviewTime    0\n",
       "reviewTime        0\n",
       "day_diff          0\n",
       "helpful_yes       0\n",
       "total_vote        0\n",
       "dtype: int64"
      ]
     },
     "execution_count": 55,
     "metadata": {},
     "output_type": "execute_result"
    }
   ],
   "source": [
    "check_missing_values(df)"
   ]
  },
  {
   "cell_type": "markdown",
   "id": "731cc931-61c0-4d94-b749-84ee19843a53",
   "metadata": {},
   "source": [
    "### Now as our data set has no missing values & clean,I would like to visualise the 'overall' column in our data which represents ratings from 1 to 5"
   ]
  },
  {
   "cell_type": "code",
   "execution_count": 69,
   "id": "dd5f1f68-d477-4391-90e3-2385d4136f99",
   "metadata": {},
   "outputs": [
    {
     "data": {
      "image/png": "[encoded data removed]",
      "text/plain": [
       "<Figure size 640x480 with 1 Axes>"
      ]
     },
     "metadata": {},
     "output_type": "display_data"
    }
   ],
   "source": [
    "# Plotting the 'overall' column as a bar plot\n",
    "overall_ratings = df['overall'].sort_index()\n",
    "# print(overall_ratings)\n",
    "\n",
    "# Add labels and title\n",
    "plt.xlabel('Rating')\n",
    "plt.ylabel('Count')\n",
    "plt.title('Distribution of Ratings')\n",
    "\n",
    "plt.hist(overall_ratings)\n",
    "plt.show() "
   ]
  },
  {
   "cell_type": "markdown",
   "id": "3e3a59c2-36a9-4149-9882-b0a75118913c",
   "metadata": {},
   "source": [
    "### Now I would like to explore column 'reviewText' and Visualise it"
   ]
  },
  {
   "cell_type": "code",
   "execution_count": 73,
   "id": "fe0fc365-0ff4-4245-8e5a-ba9ecb153187",
   "metadata": {},
   "outputs": [
    {
     "name": "stdout",
     "output_type": "stream",
     "text": [
      "1       158\n",
      "2       166\n",
      "3       340\n",
      "4       290\n",
      "5       282\n",
      "       ... \n",
      "4910    320\n",
      "4911    148\n",
      "4912    233\n",
      "4913     91\n",
      "4914    199\n",
      "Name: reviewText, Length: 4913, dtype: int64\n"
     ]
    }
   ],
   "source": [
    "# Let's get the length of the teviewText\n",
    "reviewText_length = df['reviewText'].apply(len)\n",
    "print(reviewText_length)"
   ]
  },
  {
   "cell_type": "markdown",
   "id": "6327b3e5-67d2-42b5-8f66-22c2f0761483",
   "metadata": {},
   "source": [
    "### lets see the statistical analysis of the review text length column. for instance, Mean Median,Mode,SD,Min,Max"
   ]
  },
  {
   "cell_type": "code",
   "execution_count": 74,
   "id": "71191f1b-acea-43ee-8856-44d85f29a090",
   "metadata": {},
   "outputs": [
    {
     "data": {
      "text/plain": [
       "count    4913.000000\n",
       "mean      267.799919\n",
       "std       328.877502\n",
       "min         3.000000\n",
       "25%       123.000000\n",
       "50%       172.000000\n",
       "75%       289.000000\n",
       "max      8638.000000\n",
       "Name: reviewText, dtype: float64"
      ]
     },
     "execution_count": 74,
     "metadata": {},
     "output_type": "execute_result"
    }
   ],
   "source": [
    "reviewText_length.describe()"
   ]
  },
  {
   "cell_type": "markdown",
   "id": "2f3cc94d-d64e-4ea8-a6af-5c79f4d4423c",
   "metadata": {},
   "source": [
    "### Let's create a function to return the  shortest reviewtext"
   ]
  },
  {
   "cell_type": "code",
   "execution_count": 78,
   "id": "cc0f777d-6bbd-4b60-ad50-1ae11c5f5171",
   "metadata": {},
   "outputs": [
    {
     "data": {
      "text/plain": [
       "'YES'"
      ]
     },
     "execution_count": 78,
     "metadata": {},
     "output_type": "execute_result"
    }
   ],
   "source": [
    "# Let's see the shortest reviewText \n",
    "def shortest_reviewText(column):\n",
    "    shortest_review = min(df['reviewText'], key=len)\n",
    "    return shortest_review\n",
    "shortest_reviewText(column = 'reviewText')"
   ]
  },
  {
   "cell_type": "markdown",
   "id": "cf6011e4-000a-43ec-840c-cd9664572b88",
   "metadata": {},
   "source": [
    "### Let's create a function to return the longest reviewtext"
   ]
  },
  {
   "cell_type": "code",
   "execution_count": 79,
   "id": "31faee6d-7cfa-4fb8-8206-7ae77b32be75",
   "metadata": {},
   "outputs": [
    {
     "data": {
      "text/plain": [
       "'NOTE:  please read the last update (scroll to the bottom) - I\\'m leaving this review as 1 star as it appears to help others who purchased and had a similar experience.I give SanDisk 5 stars for customer service and 1 star for the product (for those manufactured in the past)  For those newly manufactured products that contain the software ROM fix, I\\'d give the product 5 stars.To all those who purchased this card due to all the great reviews.... and then used it in a Galaxy S4 (GS4) smartphone for storage, the solution to the problem is not one you can solve without returning the card to SanDisk for a replacement under warranty.  Believe me I tried everything that the Google searches returned as solutions... formatting as exFAT, formatting in the GS4 then copying data to the card while in the phone etc.... nothing worked... and so now please stop pulling out your hair and hopefully you will get the same result which I hope to get soon (just RMA\\'d and will send it back tomorrow for a free replacement under warranty).The problem (As confirmed from the SanDisk customer support rep when I asked specifically asked him):- When used in the GS4, this card will unmount itself inadvertently (may be true only for cards manufactured before the ROM patch described below was implemented in manufacturing).  This can cause the data to become corrupt (luckily was not my experience) and / or can be very frustrating as most of us are saving 13 MP camera pictures to the card (or MP4 movies that stop in the middle of the movie) and it unmounts when you view the picture in the gallery or worse, right when you take the picture (this was the issue I experienced).- SanDisk knows about this issue.  Again, SANDISK KNOWS ABOUT THE ISSUE AND WILL REPLACE YOUR CARD. Call them (info below) and they WILL take care of it under warranty.  They have a good name for a reason and they want to keep it. (sorry SanDisk about the 1 star, but I thought it was the way to get the message out to those searching for a solution)- The customer rep told me that SanDisk tried to work with Samsung to resolve the issue but Samsung refused to acknowledge a problem exists with this card and some of their phones (especially their flagship GS4 phones).- The customer rep told me that to their knowledge the card works fine in regular cameras (not Samsung GS4 phones with cameras, obviously) and even worked fine in some phones from HTC etc. that could accommodate the 64 GB cards. Hence the 5 star ratings from others.- The solution SanDisk came up with was to write a patch into the ROM of the card itself to specifically address the issue on Samsung GS4 phones (and maybe other Samsung phones like the GS3).  I was assured that the new card I would get would work flawlessly. will see in about 3 weeks.- I purchased my card from Amazon June 2013, so the ones currently being manufactured and the one I should get will have the new patch.  However, as SanDisk manufactures in batches (like most of the industry), old batches of \"unpatched\" cards obviously exist in warehouses.- I asked about a software patch I could download and was told it\\'s not possible... hence the \"hard coded patch\" in the card\\'s ROMSo... how to take care of the problem....After speaking with the SanDisk US customer support (link and info below), this is what I learned and did.Go to the SanDisk site1) [...]2) call consumer products support (this is the US no.) 1-866-SANDISK (726-3475)3) Tell them that the card is unmounting itself in your GS4 (I assume this is also a problem experienced by GS3 owners too)4) They will then confirm your information, approve your return (10-15 min approval window by mine was basically instantaneously), and then send you emails with a UPS return label and instructions.5) BTW, they also asked if I had a magnifying glass to ID the serial no. on the card, but I didn\\'t and couldn\\'t read it myself (those numbers are super small printed into the plastic... don\\'t believe me?  take a look yourself.)  I told the rep I couldn\\'t read them and he said no problem, they would process without the serial no.  I assume this is because they send you a new replacement card only when they receive your card you send in.  Makes sense.Well, that\\'s it.  Problem (hopefully) solved.  Let\\'s see in 2-3 weeks.  The rep was super nice about it and seemed like they were all too familiar with the problem.  KUDOS TO SANDISK FOR TAKING CARE OF IT... however, it would be nice if there was some type of communication / notice of the issue besides Google info sources, forums etc.  I spent hours, maybe a couple of days total hours worth, thinking it was an issue with my phone / my data transfer.  oh well, that\\'s how it goes.I really hope that this review helps some of you out there with the same problem as me.  GOOD LUCK!!(btw, I\\'d give the card 5 stars if this problem was solved in the patched ROM of newer cards as the data transfer speeds are awesome on the card (tested transferring data via a card reader hooked to my computer)... if the data transfer / remaining mounted in the GS4 issue never existed (pre-patch of ROM, of course))UPDATE: 08/17/2013 - All went well with the return of the SanDisk Storage card.  UPS shipping took about 2 days from when I sent it, SanDisk verified the warranty claim 1 day later and 5 hours later that same day, my replacement card had been shipped. waiting on the new card now, but expect to test it out very soon (early next week).  will update the post after testing out the new card.  Just as a reference, I\\'ve been using a 32GB Micro SD HC SanDisk card in the GS4 since having shipped the 64GB card.  Obviously it\\'s a different card and not the Micro SD XC kind. Other than a bit slower access speeds to the card, absolutely zero problems.... well if you don\\'t count that it\\'s basically filled up, hence why the 64GB option is great on the GS4. So it proves the point on the problem with the early build Micro SD XC 64GB cards.I\\'m happy to see that my review has helped some others out there.  Good luck to you in your warranty claim. my experience with SanDisk customer support has been excellent so far.Update: 08/21/2013 - Received the new replacement SanDisk Storage card just a few days ago (shipping back to me once they agreed it was defective was a very short time window).  Have had it running in the Galaxy S4 for a few days now without any jumps, stutters or card unloading in the middle of picture or video taking.  Card seems to work flawlessly as the SanDisk Rep mentioned it would. One would think it\\'s such a short time to test after a few days of use, but if this were not fixed already it would have dismounted in the first 45 minutes... that\\'s how often and how fast it was occurring. so it would seem the problem is solved. The new SD card makes the phone even more responsive when moving between pictures in the gallery and performing other tasks like copying files to the card.  Thanks SanDisk!  Unless I update this review by next week, you will know that the problem has been fixed.Good luck to those with similar problems as we now know how to get it fixed thanks to SanDisks great responsive customer service.Update: 08/31/2013 - This is the last update to this review just to \"close the loop\".  The new replacement card from SanDisk has been running flawlessly for about 2 weeks now.  I have not experienced any of the initial problems.  SanDisk really did fix the issues in the new batch of cards.Update: 12/09/2013 - The card has been running in my GS4 flawlessly since replacing it around Aug 21st.  Pretty good track record so far (~ 3.5 months) so it appears to be fixed with the newly manufactured (replacement) cards.For those that have left comments that I should change the rating upwards now that the issue is fixed (see my addition at the beginning of this review)... When searching for a solution to a problem with a purchased product, most people start at the 1 star reviews to see what others have experienced.  This is especially true for products with a lot of reviews (this is what I did in the beginning with this product).  Therefore I think leaving it at 1 star and adding the comments at the beginning should clarify the review.Thanks to review commenter \"Da Shocker\" for his input.  I think he sums it up very well when it comes to the value of files stored on media like this:\"One more thing.. to those not happy with the one star rating by this person go ahead buy one. Take tons of pics vids and save some music on there then when the card crashes come back and give it a five star. A card cost $50-$100 pictures from a vacation or family event are priceless.. \"'"
      ]
     },
     "execution_count": 79,
     "metadata": {},
     "output_type": "execute_result"
    }
   ],
   "source": [
    "def shortest_reviewText(column):\n",
    "    shortest_review = max(df['reviewText'], key=len)\n",
    "    return shortest_review\n",
    "shortest_reviewText(column = 'reviewText')"
   ]
  },
  {
   "cell_type": "markdown",
   "id": "61183053-cbe5-4e3d-93a5-755621ee7ca4",
   "metadata": {},
   "source": [
    "### Let's clean the the column 'reviewText' for better analysis (Text Processing)"
   ]
  },
  {
   "cell_type": "markdown",
   "id": "548300ec-4daf-41c2-92d6-9bdcac701faa",
   "metadata": {},
   "source": [
    "### Let's create a function called TextProcessing to clean our dependent variable(reviewText)"
   ]
  },
  {
   "cell_type": "code",
   "execution_count": 190,
   "id": "e56dc983-e187-4932-96b2-3de8ebfac957",
   "metadata": {},
   "outputs": [
    {
     "name": "stderr",
     "output_type": "stream",
     "text": [
      "[nltk_data] Downloading package stopwords to\n",
      "[nltk_data]     C:\\Users\\satya\\AppData\\Roaming\\nltk_data...\n",
      "[nltk_data]   Package stopwords is already up-to-date!\n"
     ]
    },
    {
     "data": {
      "text/plain": [
       "True"
      ]
     },
     "execution_count": 190,
     "metadata": {},
     "output_type": "execute_result"
    }
   ],
   "source": [
    "nltk.download('stopwords')"
   ]
  },
  {
   "cell_type": "code",
   "execution_count": 189,
   "id": "89357951-0c03-4d99-81d1-08f4f0273c01",
   "metadata": {},
   "outputs": [
    {
     "name": "stderr",
     "output_type": "stream",
     "text": [
      "[nltk_data] Downloading package wordnet to\n",
      "[nltk_data]     C:\\Users\\satya\\AppData\\Roaming\\nltk_data...\n",
      "[nltk_data]   Package wordnet is already up-to-date!\n"
     ]
    },
    {
     "data": {
      "text/plain": [
       "True"
      ]
     },
     "execution_count": 189,
     "metadata": {},
     "output_type": "execute_result"
    }
   ],
   "source": [
    "nltk.download('wordnet')"
   ]
  },
  {
   "cell_type": "code",
   "execution_count": 193,
   "id": "7ca27154-db8b-41f5-8c55-ba3a8728937f",
   "metadata": {},
   "outputs": [
    {
     "name": "stderr",
     "output_type": "stream",
     "text": [
      "[nltk_data] Downloading package punkt to\n",
      "[nltk_data]     C:\\Users\\satya\\AppData\\Roaming\\nltk_data...\n",
      "[nltk_data]   Unzipping tokenizers\\punkt.zip.\n"
     ]
    },
    {
     "data": {
      "text/plain": [
       "True"
      ]
     },
     "execution_count": 193,
     "metadata": {},
     "output_type": "execute_result"
    }
   ],
   "source": [
    "nltk.download('punkt')"
   ]
  },
  {
   "cell_type": "code",
   "execution_count": 205,
   "id": "28d3d540-f496-4c1a-b3ef-b64bfa78b9ed",
   "metadata": {},
   "outputs": [],
   "source": [
    "def text_preprocessing(df, dep_var):\n",
    "    ##casefolding. (converting the text in our column from upper to lower case)\n",
    "    df[dep_var] = df[dep_var].apply(lambda x: \" \".join(x.lower() for x in str(x).split()))\n",
    "\n",
    "    ##Removing Punctuation\n",
    "    # df[dep_var] = df[dep_var].str.replace('[^\\w\\s]','')\n",
    "    df[dep_var] = df[dep_var].apply(lambda x: x.translate(str.maketrans('', '', string.punctuation)))\n",
    "                               \n",
    "    ##Removing Numbers from the text\n",
    "    df[dep_var] = df[dep_var].str.replace('\\d','')\n",
    "\n",
    "    ##Stopwords\n",
    "    sw =  stopwords.words('english')\n",
    "    df[dep_var] = df[dep_var].apply(lambda x: \" \".join(x for x in x.split() if x not in sw))\n",
    "\n",
    "    ##Remove RareWords\n",
    "    ##Calculates the frequency of each word in the column\n",
    "    temp_df = pd.Series(' '.join(df[dep_var]).split()).value_counts()\n",
    "    drops = temp_df[temp_df <=1]\n",
    "    df[dep_var] = df[dep_var].apply(lambda x: \" \".join(x for x in str(x).split() if x not in drops))\n",
    "\n",
    "    ##Lemmatize\n",
    "    lemmatizer = WordNetLemmatizer()  # Initialize WordNetLemmatizer\n",
    "    df[dep_var] = df[dep_var].apply(lambda x: \" \".join([lemmatizer.lemmatize(word) for word in x.split()]))\n",
    "\n",
    "    return df\n",
    "\n",
    "df = text_preprocessing(df=df, dep_var= \"reviewText\")"
   ]
  },
  {
   "cell_type": "code",
   "execution_count": 206,
   "id": "8c1d135f-38ec-477a-93ec-225efbec41ef",
   "metadata": {},
   "outputs": [
    {
     "data": {
      "text/plain": [
       "1    purchased device worked advertised never much ...\n",
       "2    work expected higher capacity think made bit e...\n",
       "3    think worked 64gb card went south 3 one held p...\n",
       "4    bought retail packaging arrived legit version ...\n",
       "5    mini storage anything else supposed purchased ...\n",
       "Name: reviewText, dtype: object"
      ]
     },
     "execution_count": 206,
     "metadata": {},
     "output_type": "execute_result"
    }
   ],
   "source": [
    "df[\"reviewText\"].head()"
   ]
  },
  {
   "cell_type": "markdown",
   "id": "7a660479-b6ec-4b98-9041-88571265939e",
   "metadata": {},
   "source": [
    "## Let's visualise our 'reviewtext' column by word cloud"
   ]
  },
  {
   "cell_type": "markdown",
   "id": "9fa8cf6d-36b7-402c-839d-184c14e1f3b9",
   "metadata": {},
   "source": [
    "### Let's create a 'textvisualisation' function to visualise our column"
   ]
  },
  {
   "cell_type": "code",
   "execution_count": 213,
   "id": "68eb7d9e-35e8-4d63-9cff-03bd362ab8af",
   "metadata": {},
   "outputs": [
    {
     "data": {
      "image/png": "[encoded data removed]",
      "text/plain": [
       "<Figure size 640x480 with 1 Axes>"
      ]
     },
     "metadata": {},
     "output_type": "display_data"
    },
    {
     "ename": "NameError",
     "evalue": "name 'dataframe' is not defined",
     "output_type": "error",
     "traceback": [
      "\u001b[1;31m---------------------------------------------------------------------------\u001b[0m",
      "\u001b[1;31mNameError\u001b[0m                                 Traceback (most recent call last)",
      "Cell \u001b[1;32mIn[213], line 23\u001b[0m\n\u001b[0;32m     20\u001b[0m         plt\u001b[38;5;241m.\u001b[39mshow()\n\u001b[0;32m     21\u001b[0m         wordcloud\u001b[38;5;241m.\u001b[39mto_file(\u001b[38;5;124m\"\u001b[39m\u001b[38;5;124mwordcloud.png\u001b[39m\u001b[38;5;124m\"\u001b[39m)\n\u001b[1;32m---> 23\u001b[0m text_visualisation(df, \u001b[38;5;124m\"\u001b[39m\u001b[38;5;124mreviewText\u001b[39m\u001b[38;5;124m\"\u001b[39m)\n",
      "Cell \u001b[1;32mIn[213], line 14\u001b[0m, in \u001b[0;36mtext_visualisation\u001b[1;34m(df, dep_var, barplot, wordcloud)\u001b[0m\n\u001b[0;32m     12\u001b[0m \u001b[38;5;66;03m#wordCloud\u001b[39;00m\n\u001b[0;32m     13\u001b[0m \u001b[38;5;28;01mif\u001b[39;00m wordcloud:\n\u001b[1;32m---> 14\u001b[0m     text \u001b[38;5;241m=\u001b[39m \u001b[38;5;124m\"\u001b[39m\u001b[38;5;124m \u001b[39m\u001b[38;5;124m\"\u001b[39m\u001b[38;5;241m.\u001b[39mjoin(i \u001b[38;5;28;01mfor\u001b[39;00m i \u001b[38;5;129;01min\u001b[39;00m dataframe[dependent_var])\n\u001b[0;32m     15\u001b[0m     wordcloud \u001b[38;5;241m=\u001b[39m WordCloud(max_font_size\u001b[38;5;241m=\u001b[39m\u001b[38;5;241m100\u001b[39m, max_words\u001b[38;5;241m=\u001b[39m\u001b[38;5;241m1000\u001b[39m, background_color\u001b[38;5;241m=\u001b[39m\u001b[38;5;124m\"\u001b[39m\u001b[38;5;124mwhite\u001b[39m\u001b[38;5;124m\"\u001b[39m)\u001b[38;5;241m.\u001b[39mgenerate(text)\n\u001b[0;32m     16\u001b[0m     plt\u001b[38;5;241m.\u001b[39mfigure(figsize\u001b[38;5;241m=\u001b[39m[\u001b[38;5;241m10\u001b[39m, \u001b[38;5;241m10\u001b[39m])\n",
      "\u001b[1;31mNameError\u001b[0m: name 'dataframe' is not defined"
     ]
    }
   ],
   "source": [
    "def text_visualisation(df, dep_var, barplot=True, wordcloud=True):\n",
    "    #calculate the terms frequencies in the column reviewText\n",
    "    tf = df[dep_var].apply(lambda x: pd.value_counts(x.split(\" \"))).sum(axis=0).reset_index()\n",
    "    tf.columns=[\"words\", \"tf\"]\n",
    "\n",
    "    #barplot\n",
    "    if barplot:\n",
    "        tf[tf[\"tf\"]>1000].plot.barh(x=\"words\", y=\"tf\")\n",
    "        plt.title(\"Calculation of Term Frequencies : barplot\")\n",
    "        plt.show()\n",
    "\n",
    "    #wordCloud\n",
    "    if wordcloud:\n",
    "        text = \" \".join(i for i in dataframe[dependent_var])\n",
    "        wordcloud = WordCloud(max_font_size=100, max_words=1000, background_color=\"white\").generate(text)\n",
    "        plt.figure(figsize=[10, 10])\n",
    "        plt.imshow(wordcloud, interpolation=\"bilinear\")\n",
    "        plt.axis(\"off\")\n",
    "        plt.title(\"Calculation of Term Frequencies : wordcloud\")\n",
    "        plt.show()\n",
    "        wordcloud.to_file(\"wordcloud.png\")\n",
    "\n",
    "text_visualisation(df, \"reviewText\")"
   ]
  },
  {
   "cell_type": "markdown",
   "id": "57e175de-aa31-4cdb-9441-aa03e2e04674",
   "metadata": {},
   "source": [
    "### Let's see the positive reviewTexts and Negitive reviewText by word cloud"
   ]
  },
  {
   "cell_type": "markdown",
   "id": "7c1581b5-fad2-4f8d-9506-e0e6ce3d202f",
   "metadata": {},
   "source": [
    "### I decided to categorise positive texts are which having rating 5 "
   ]
  },
  {
   "cell_type": "code",
   "execution_count": 127,
   "id": "1bbf5d58-48e9-477f-8995-e31099944929",
   "metadata": {},
   "outputs": [],
   "source": [
    "positive = df['overall']==5 "
   ]
  },
  {
   "cell_type": "markdown",
   "id": "7c793426-199c-4f4a-9ab0-4f50c6bf300d",
   "metadata": {},
   "source": [
    "### I decided to categorise negative texts are which having rating less than 5"
   ]
  },
  {
   "cell_type": "code",
   "execution_count": 138,
   "id": "dbff88d1-ba2a-4832-97ac-428327968333",
   "metadata": {},
   "outputs": [],
   "source": [
    "negative = df['overall']<5"
   ]
  },
  {
   "cell_type": "markdown",
   "id": "13b0a3fa-d9c9-4b58-b0c2-6a2e9b5a63a9",
   "metadata": {},
   "source": [
    "### lets see the positive texts count"
   ]
  },
  {
   "cell_type": "code",
   "execution_count": 140,
   "id": "6c3534f9-e41d-443f-99f7-bbbd5b319af5",
   "metadata": {},
   "outputs": [],
   "source": [
    "positive_count = positive.sum()"
   ]
  },
  {
   "cell_type": "code",
   "execution_count": 141,
   "id": "b9af8c39-5001-486b-9242-52355c87f66b",
   "metadata": {},
   "outputs": [
    {
     "name": "stdout",
     "output_type": "stream",
     "text": [
      "3921\n"
     ]
    }
   ],
   "source": [
    "print(positive_count)"
   ]
  },
  {
   "cell_type": "markdown",
   "id": "6d2c7d47-b897-438e-a1ed-075559204336",
   "metadata": {},
   "source": [
    "### lets see the negative texts count"
   ]
  },
  {
   "cell_type": "code",
   "execution_count": 142,
   "id": "e9002bdf-11ca-46fd-988a-12654c57143b",
   "metadata": {},
   "outputs": [],
   "source": [
    "negative_count = negative.sum()"
   ]
  },
  {
   "cell_type": "code",
   "execution_count": 143,
   "id": "ba0d775f-925d-4c7e-85e7-7a356d568e31",
   "metadata": {},
   "outputs": [
    {
     "name": "stdout",
     "output_type": "stream",
     "text": [
      "992\n"
     ]
    }
   ],
   "source": [
    "print(negative_count)"
   ]
  },
  {
   "cell_type": "markdown",
   "id": "0bfcde1e-36c0-4bc0-94b8-8278e72d5f20",
   "metadata": {},
   "source": [
    "### we can see 3921 positive reviews(rating 5) & 992 negative reviews(rating 4 and below) TOTAL 4913 rows"
   ]
  },
  {
   "cell_type": "code",
   "execution_count": null,
   "id": "4bedf86f-a52d-4c79-9354-2d68b3274b2a",
   "metadata": {},
   "outputs": [],
   "source": []
  }
 ],
 "metadata": {
  "kernelspec": {
   "display_name": "Python 3 (ipykernel)",
   "language": "python",
   "name": "python3"
  },
  "language_info": {
   "codemirror_mode": {
    "name": "ipython",
    "version": 3
   },
   "file_extension": ".py",
   "mimetype": "text/x-python",
   "name": "python",
   "nbconvert_exporter": "python",
   "pygments_lexer": "ipython3",
   "version": "3.11.7"
  }
 },
 "nbformat": 4,
 "nbformat_minor": 5
}
